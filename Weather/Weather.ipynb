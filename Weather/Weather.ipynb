{
 "cells": [
  {
   "cell_type": "code",
   "execution_count": 1,
   "id": "6b943fb9",
   "metadata": {},
   "outputs": [],
   "source": [
    "import requests"
   ]
  },
  {
   "cell_type": "code",
   "execution_count": 2,
   "id": "5b333b19",
   "metadata": {},
   "outputs": [],
   "source": [
    "API_KEY = \"4898bf479091d9ff49c3001f88e91659\""
   ]
  },
  {
   "cell_type": "code",
   "execution_count": 3,
   "id": "e4c6a8a7",
   "metadata": {},
   "outputs": [],
   "source": [
    "url = f\"http://api.openweathermap.org/data/2.5/weather?appid={API_KEY}&q=\""
   ]
  },
  {
   "cell_type": "code",
   "execution_count": 4,
   "id": "4d487360",
   "metadata": {},
   "outputs": [],
   "source": [
    "city = \"Chennai\""
   ]
  },
  {
   "cell_type": "code",
   "execution_count": 5,
   "id": "edbfc209",
   "metadata": {},
   "outputs": [],
   "source": [
    "response = requests.get(url + city)"
   ]
  },
  {
   "cell_type": "code",
   "execution_count": 6,
   "id": "d0ebfcc6",
   "metadata": {},
   "outputs": [],
   "source": [
    "data = response.json()"
   ]
  },
  {
   "cell_type": "code",
   "execution_count": 7,
   "id": "6d01dde3",
   "metadata": {},
   "outputs": [],
   "source": [
    "temperature = data[\"main\"][\"temp\"]\n",
    "humidity = data[\"main\"][\"humidity\"]\n",
    "description = data[\"weather\"][0][\"description\"]"
   ]
  },
  {
   "cell_type": "code",
   "execution_count": 8,
   "id": "1ad849e7",
   "metadata": {},
   "outputs": [
    {
     "name": "stdout",
     "output_type": "stream",
     "text": [
      "Temperature: 305.35K\n",
      "Humidity: 77%\n",
      "Description: scattered clouds\n"
     ]
    }
   ],
   "source": [
    "print(f\"Temperature: {temperature}K\")\n",
    "print(f\"Humidity: {humidity}%\")\n",
    "print(f\"Description: {description}\")"
   ]
  },
  {
   "cell_type": "code",
   "execution_count": 9,
   "id": "11fef453",
   "metadata": {},
   "outputs": [],
   "source": [
    "url1 = \"http://api.openweathermap.org/data/2.5/forecast\""
   ]
  },
  {
   "cell_type": "code",
   "execution_count": 10,
   "id": "dd0b6341",
   "metadata": {},
   "outputs": [],
   "source": [
    "city_name = \"Chennai\""
   ]
  },
  {
   "cell_type": "code",
   "execution_count": 11,
   "id": "ad9efac0",
   "metadata": {},
   "outputs": [],
   "source": [
    "params = {\n",
    "    \"q\": city_name,\n",
    "    \"appid\": API_KEY,\n",
    "    \"units\": \"metric\"\n",
    "}"
   ]
  },
  {
   "cell_type": "code",
   "execution_count": 12,
   "id": "dc9357ec",
   "metadata": {},
   "outputs": [],
   "source": [
    "response = requests.get(url1, params=params)"
   ]
  },
  {
   "cell_type": "code",
   "execution_count": 30,
   "id": "f029fe3a",
   "metadata": {},
   "outputs": [],
   "source": [
    "res = '<tr>'"
   ]
  },
  {
   "cell_type": "code",
   "execution_count": 33,
   "id": "1979177a",
   "metadata": {},
   "outputs": [
    {
     "name": "stdout",
     "output_type": "stream",
     "text": [
      "[{'dt': 1683190800, 'main': {'temp': 32.2, 'feels_like': 39.2, 'temp_min': 30.55, 'temp_max': 32.2, 'pressure': 1011, 'sea_level': 1011, 'grnd_level': 1005, 'humidity': 77, 'temp_kf': 1.65}, 'weather': [{'id': 500, 'main': 'Rain', 'description': 'light rain', 'icon': '10d'}], 'clouds': {'all': 40}, 'wind': {'speed': 3.45, 'deg': 87, 'gust': 2.1}, 'visibility': 10000, 'pop': 0.57, 'rain': {'3h': 0.97}, 'sys': {'pod': 'd'}, 'dt_txt': '2023-05-04 09:00:00'}, {'dt': 1683201600, 'main': {'temp': 31.32, 'feels_like': 38.32, 'temp_min': 29.57, 'temp_max': 31.32, 'pressure': 1009, 'sea_level': 1009, 'grnd_level': 1004, 'humidity': 74, 'temp_kf': 1.75}, 'weather': [{'id': 500, 'main': 'Rain', 'description': 'light rain', 'icon': '10d'}], 'clouds': {'all': 56}, 'wind': {'speed': 3.94, 'deg': 77, 'gust': 3.64}, 'visibility': 10000, 'pop': 0.41, 'rain': {'3h': 0.67}, 'sys': {'pod': 'd'}, 'dt_txt': '2023-05-04 12:00:00'}, {'dt': 1683212400, 'main': {'temp': 30.27, 'feels_like': 37.27, 'temp_min': 29.3, 'temp_max': 30.27, 'pressure': 1009, 'sea_level': 1009, 'grnd_level': 1006, 'humidity': 76, 'temp_kf': 0.97}, 'weather': [{'id': 500, 'main': 'Rain', 'description': 'light rain', 'icon': '10n'}], 'clouds': {'all': 55}, 'wind': {'speed': 4.03, 'deg': 103, 'gust': 4.5}, 'visibility': 10000, 'pop': 0.3, 'rain': {'3h': 0.95}, 'sys': {'pod': 'n'}, 'dt_txt': '2023-05-04 15:00:00'}, {'dt': 1683223200, 'main': {'temp': 28.56, 'feels_like': 32.99, 'temp_min': 28.56, 'temp_max': 28.56, 'pressure': 1008, 'sea_level': 1008, 'grnd_level': 1007, 'humidity': 77, 'temp_kf': 0}, 'weather': [{'id': 500, 'main': 'Rain', 'description': 'light rain', 'icon': '10n'}], 'clouds': {'all': 81}, 'wind': {'speed': 1.82, 'deg': 118, 'gust': 2.1}, 'visibility': 10000, 'pop': 0.84, 'rain': {'3h': 1.29}, 'sys': {'pod': 'n'}, 'dt_txt': '2023-05-04 18:00:00'}, {'dt': 1683234000, 'main': {'temp': 28.43, 'feels_like': 32.5, 'temp_min': 28.43, 'temp_max': 28.43, 'pressure': 1005, 'sea_level': 1005, 'grnd_level': 1004, 'humidity': 76, 'temp_kf': 0}, 'weather': [{'id': 500, 'main': 'Rain', 'description': 'light rain', 'icon': '10n'}], 'clouds': {'all': 100}, 'wind': {'speed': 0.32, 'deg': 284, 'gust': 0.59}, 'visibility': 10000, 'pop': 0.76, 'rain': {'3h': 0.57}, 'sys': {'pod': 'n'}, 'dt_txt': '2023-05-04 21:00:00'}, {'dt': 1683244800, 'main': {'temp': 28.21, 'feels_like': 32.14, 'temp_min': 28.21, 'temp_max': 28.21, 'pressure': 1006, 'sea_level': 1006, 'grnd_level': 1005, 'humidity': 77, 'temp_kf': 0}, 'weather': [{'id': 804, 'main': 'Clouds', 'description': 'overcast clouds', 'icon': '04n'}], 'clouds': {'all': 100}, 'wind': {'speed': 1.11, 'deg': 257, 'gust': 1.12}, 'visibility': 10000, 'pop': 0.7, 'sys': {'pod': 'n'}, 'dt_txt': '2023-05-05 00:00:00'}, {'dt': 1683255600, 'main': {'temp': 29.27, 'feels_like': 33.53, 'temp_min': 29.27, 'temp_max': 29.27, 'pressure': 1008, 'sea_level': 1008, 'grnd_level': 1007, 'humidity': 71, 'temp_kf': 0}, 'weather': [{'id': 804, 'main': 'Clouds', 'description': 'overcast clouds', 'icon': '04d'}], 'clouds': {'all': 100}, 'wind': {'speed': 1.49, 'deg': 179, 'gust': 1.5}, 'visibility': 10000, 'pop': 0.22, 'sys': {'pod': 'd'}, 'dt_txt': '2023-05-05 03:00:00'}, {'dt': 1683266400, 'main': {'temp': 30.97, 'feels_like': 35.29, 'temp_min': 30.97, 'temp_max': 30.97, 'pressure': 1007, 'sea_level': 1007, 'grnd_level': 1006, 'humidity': 62, 'temp_kf': 0}, 'weather': [{'id': 500, 'main': 'Rain', 'description': 'light rain', 'icon': '10d'}], 'clouds': {'all': 100}, 'wind': {'speed': 2.29, 'deg': 202, 'gust': 2.49}, 'visibility': 10000, 'pop': 0.94, 'rain': {'3h': 2.42}, 'sys': {'pod': 'd'}, 'dt_txt': '2023-05-05 06:00:00'}, {'dt': 1683277200, 'main': {'temp': 30.43, 'feels_like': 34.35, 'temp_min': 30.43, 'temp_max': 30.43, 'pressure': 1005, 'sea_level': 1005, 'grnd_level': 1003, 'humidity': 63, 'temp_kf': 0}, 'weather': [{'id': 501, 'main': 'Rain', 'description': 'moderate rain', 'icon': '10d'}], 'clouds': {'all': 97}, 'wind': {'speed': 1.83, 'deg': 203, 'gust': 2.74}, 'visibility': 10000, 'pop': 0.86, 'rain': {'3h': 3.73}, 'sys': {'pod': 'd'}, 'dt_txt': '2023-05-05 09:00:00'}, {'dt': 1683288000, 'main': {'temp': 30.02, 'feels_like': 34.38, 'temp_min': 30.02, 'temp_max': 30.02, 'pressure': 1005, 'sea_level': 1005, 'grnd_level': 1003, 'humidity': 67, 'temp_kf': 0}, 'weather': [{'id': 500, 'main': 'Rain', 'description': 'light rain', 'icon': '10d'}], 'clouds': {'all': 98}, 'wind': {'speed': 0.6, 'deg': 302, 'gust': 1.28}, 'visibility': 10000, 'pop': 0.86, 'rain': {'3h': 1.54}, 'sys': {'pod': 'd'}, 'dt_txt': '2023-05-05 12:00:00'}, {'dt': 1683298800, 'main': {'temp': 29.43, 'feels_like': 34.12, 'temp_min': 29.43, 'temp_max': 29.43, 'pressure': 1007, 'sea_level': 1007, 'grnd_level': 1005, 'humidity': 72, 'temp_kf': 0}, 'weather': [{'id': 804, 'main': 'Clouds', 'description': 'overcast clouds', 'icon': '04n'}], 'clouds': {'all': 99}, 'wind': {'speed': 1.39, 'deg': 70, 'gust': 1.68}, 'visibility': 10000, 'pop': 0.15, 'sys': {'pod': 'n'}, 'dt_txt': '2023-05-05 15:00:00'}, {'dt': 1683309600, 'main': {'temp': 28.93, 'feels_like': 33.13, 'temp_min': 28.93, 'temp_max': 28.93, 'pressure': 1006, 'sea_level': 1006, 'grnd_level': 1005, 'humidity': 73, 'temp_kf': 0}, 'weather': [{'id': 804, 'main': 'Clouds', 'description': 'overcast clouds', 'icon': '04n'}], 'clouds': {'all': 99}, 'wind': {'speed': 1.26, 'deg': 352, 'gust': 1.65}, 'visibility': 10000, 'pop': 0.09, 'sys': {'pod': 'n'}, 'dt_txt': '2023-05-05 18:00:00'}, {'dt': 1683320400, 'main': {'temp': 28.61, 'feels_like': 32.4, 'temp_min': 28.61, 'temp_max': 28.61, 'pressure': 1004, 'sea_level': 1004, 'grnd_level': 1003, 'humidity': 73, 'temp_kf': 0}, 'weather': [{'id': 500, 'main': 'Rain', 'description': 'light rain', 'icon': '10n'}], 'clouds': {'all': 100}, 'wind': {'speed': 0.96, 'deg': 210, 'gust': 1.04}, 'visibility': 10000, 'pop': 0.23, 'rain': {'3h': 0.11}, 'sys': {'pod': 'n'}, 'dt_txt': '2023-05-05 21:00:00'}, {'dt': 1683331200, 'main': {'temp': 27.97, 'feels_like': 31.43, 'temp_min': 27.97, 'temp_max': 27.97, 'pressure': 1005, 'sea_level': 1005, 'grnd_level': 1004, 'humidity': 76, 'temp_kf': 0}, 'weather': [{'id': 500, 'main': 'Rain', 'description': 'light rain', 'icon': '10n'}], 'clouds': {'all': 100}, 'wind': {'speed': 2.27, 'deg': 242, 'gust': 2.69}, 'visibility': 10000, 'pop': 0.59, 'rain': {'3h': 2.23}, 'sys': {'pod': 'n'}, 'dt_txt': '2023-05-06 00:00:00'}, {'dt': 1683342000, 'main': {'temp': 27.92, 'feels_like': 31.46, 'temp_min': 27.92, 'temp_max': 27.92, 'pressure': 1008, 'sea_level': 1008, 'grnd_level': 1006, 'humidity': 77, 'temp_kf': 0}, 'weather': [{'id': 500, 'main': 'Rain', 'description': 'light rain', 'icon': '10d'}], 'clouds': {'all': 100}, 'wind': {'speed': 4.14, 'deg': 256, 'gust': 4.78}, 'visibility': 10000, 'pop': 0.42, 'rain': {'3h': 0.12}, 'sys': {'pod': 'd'}, 'dt_txt': '2023-05-06 03:00:00'}, {'dt': 1683352800, 'main': {'temp': 30.98, 'feels_like': 34.8, 'temp_min': 30.98, 'temp_max': 30.98, 'pressure': 1007, 'sea_level': 1007, 'grnd_level': 1006, 'humidity': 60, 'temp_kf': 0}, 'weather': [{'id': 804, 'main': 'Clouds', 'description': 'overcast clouds', 'icon': '04d'}], 'clouds': {'all': 100}, 'wind': {'speed': 0.35, 'deg': 262, 'gust': 1.85}, 'visibility': 10000, 'pop': 0.46, 'sys': {'pod': 'd'}, 'dt_txt': '2023-05-06 06:00:00'}, {'dt': 1683363600, 'main': {'temp': 27.89, 'feels_like': 31.68, 'temp_min': 27.89, 'temp_max': 27.89, 'pressure': 1005, 'sea_level': 1005, 'grnd_level': 1004, 'humidity': 79, 'temp_kf': 0}, 'weather': [{'id': 501, 'main': 'Rain', 'description': 'moderate rain', 'icon': '10d'}], 'clouds': {'all': 100}, 'wind': {'speed': 7.97, 'deg': 171, 'gust': 7.47}, 'visibility': 10000, 'pop': 0.93, 'rain': {'3h': 3.47}, 'sys': {'pod': 'd'}, 'dt_txt': '2023-05-06 09:00:00'}, {'dt': 1683374400, 'main': {'temp': 27.19, 'feels_like': 30.17, 'temp_min': 27.19, 'temp_max': 27.19, 'pressure': 1005, 'sea_level': 1005, 'grnd_level': 1004, 'humidity': 80, 'temp_kf': 0}, 'weather': [{'id': 500, 'main': 'Rain', 'description': 'light rain', 'icon': '10d'}], 'clouds': {'all': 100}, 'wind': {'speed': 6.05, 'deg': 205, 'gust': 6.83}, 'visibility': 10000, 'pop': 0.93, 'rain': {'3h': 1.06}, 'sys': {'pod': 'd'}, 'dt_txt': '2023-05-06 12:00:00'}, {'dt': 1683385200, 'main': {'temp': 27.04, 'feels_like': 29.93, 'temp_min': 27.04, 'temp_max': 27.04, 'pressure': 1007, 'sea_level': 1007, 'grnd_level': 1006, 'humidity': 81, 'temp_kf': 0}, 'weather': [{'id': 804, 'main': 'Clouds', 'description': 'overcast clouds', 'icon': '04n'}], 'clouds': {'all': 100}, 'wind': {'speed': 5.72, 'deg': 239, 'gust': 7.82}, 'visibility': 10000, 'pop': 0.03, 'sys': {'pod': 'n'}, 'dt_txt': '2023-05-06 15:00:00'}, {'dt': 1683396000, 'main': {'temp': 27.14, 'feels_like': 30.05, 'temp_min': 27.14, 'temp_max': 27.14, 'pressure': 1007, 'sea_level': 1007, 'grnd_level': 1005, 'humidity': 80, 'temp_kf': 0}, 'weather': [{'id': 804, 'main': 'Clouds', 'description': 'overcast clouds', 'icon': '04n'}], 'clouds': {'all': 100}, 'wind': {'speed': 4.79, 'deg': 232, 'gust': 7.67}, 'visibility': 10000, 'pop': 0, 'sys': {'pod': 'n'}, 'dt_txt': '2023-05-06 18:00:00'}, {'dt': 1683406800, 'main': {'temp': 26.5, 'feels_like': 26.5, 'temp_min': 26.5, 'temp_max': 26.5, 'pressure': 1004, 'sea_level': 1004, 'grnd_level': 1003, 'humidity': 82, 'temp_kf': 0}, 'weather': [{'id': 500, 'main': 'Rain', 'description': 'light rain', 'icon': '10n'}], 'clouds': {'all': 99}, 'wind': {'speed': 4.56, 'deg': 228, 'gust': 6.52}, 'visibility': 10000, 'pop': 0.23, 'rain': {'3h': 0.43}, 'sys': {'pod': 'n'}, 'dt_txt': '2023-05-06 21:00:00'}, {'dt': 1683417600, 'main': {'temp': 26.58, 'feels_like': 26.58, 'temp_min': 26.58, 'temp_max': 26.58, 'pressure': 1005, 'sea_level': 1005, 'grnd_level': 1003, 'humidity': 80, 'temp_kf': 0}, 'weather': [{'id': 500, 'main': 'Rain', 'description': 'light rain', 'icon': '10n'}], 'clouds': {'all': 99}, 'wind': {'speed': 4.52, 'deg': 234, 'gust': 6.85}, 'visibility': 10000, 'pop': 0.26, 'rain': {'3h': 0.45}, 'sys': {'pod': 'n'}, 'dt_txt': '2023-05-07 00:00:00'}, {'dt': 1683428400, 'main': {'temp': 29.61, 'feels_like': 33.06, 'temp_min': 29.61, 'temp_max': 29.61, 'pressure': 1006, 'sea_level': 1006, 'grnd_level': 1005, 'humidity': 65, 'temp_kf': 0}, 'weather': [{'id': 803, 'main': 'Clouds', 'description': 'broken clouds', 'icon': '04d'}], 'clouds': {'all': 52}, 'wind': {'speed': 4.46, 'deg': 288, 'gust': 5.29}, 'visibility': 10000, 'pop': 0.07, 'sys': {'pod': 'd'}, 'dt_txt': '2023-05-07 03:00:00'}, {'dt': 1683439200, 'main': {'temp': 33.18, 'feels_like': 37.57, 'temp_min': 33.18, 'temp_max': 33.18, 'pressure': 1005, 'sea_level': 1005, 'grnd_level': 1004, 'humidity': 53, 'temp_kf': 0}, 'weather': [{'id': 803, 'main': 'Clouds', 'description': 'broken clouds', 'icon': '04d'}], 'clouds': {'all': 74}, 'wind': {'speed': 1.92, 'deg': 19, 'gust': 3.71}, 'visibility': 10000, 'pop': 0, 'sys': {'pod': 'd'}, 'dt_txt': '2023-05-07 06:00:00'}, {'dt': 1683450000, 'main': {'temp': 32.67, 'feels_like': 37.38, 'temp_min': 32.67, 'temp_max': 32.67, 'pressure': 1003, 'sea_level': 1003, 'grnd_level': 1001, 'humidity': 56, 'temp_kf': 0}, 'weather': [{'id': 804, 'main': 'Clouds', 'description': 'overcast clouds', 'icon': '04d'}], 'clouds': {'all': 96}, 'wind': {'speed': 5.28, 'deg': 74, 'gust': 5.12}, 'visibility': 10000, 'pop': 0, 'sys': {'pod': 'd'}, 'dt_txt': '2023-05-07 09:00:00'}, {'dt': 1683460800, 'main': {'temp': 31.02, 'feels_like': 36.77, 'temp_min': 31.02, 'temp_max': 31.02, 'pressure': 1003, 'sea_level': 1003, 'grnd_level': 1002, 'humidity': 67, 'temp_kf': 0}, 'weather': [{'id': 804, 'main': 'Clouds', 'description': 'overcast clouds', 'icon': '04d'}], 'clouds': {'all': 91}, 'wind': {'speed': 4.61, 'deg': 113, 'gust': 4.87}, 'visibility': 10000, 'pop': 0.04, 'sys': {'pod': 'd'}, 'dt_txt': '2023-05-07 12:00:00'}, {'dt': 1683471600, 'main': {'temp': 29.94, 'feels_like': 36.14, 'temp_min': 29.94, 'temp_max': 29.94, 'pressure': 1005, 'sea_level': 1005, 'grnd_level': 1004, 'humidity': 75, 'temp_kf': 0}, 'weather': [{'id': 804, 'main': 'Clouds', 'description': 'overcast clouds', 'icon': '04n'}], 'clouds': {'all': 100}, 'wind': {'speed': 5.21, 'deg': 179, 'gust': 6.53}, 'visibility': 10000, 'pop': 0.23, 'sys': {'pod': 'n'}, 'dt_txt': '2023-05-07 15:00:00'}, {'dt': 1683482400, 'main': {'temp': 29.66, 'feels_like': 34.68, 'temp_min': 29.66, 'temp_max': 29.66, 'pressure': 1005, 'sea_level': 1005, 'grnd_level': 1003, 'humidity': 72, 'temp_kf': 0}, 'weather': [{'id': 804, 'main': 'Clouds', 'description': 'overcast clouds', 'icon': '04n'}], 'clouds': {'all': 99}, 'wind': {'speed': 2.48, 'deg': 236, 'gust': 3.37}, 'visibility': 10000, 'pop': 0.24, 'sys': {'pod': 'n'}, 'dt_txt': '2023-05-07 18:00:00'}, {'dt': 1683493200, 'main': {'temp': 28.83, 'feels_like': 32.36, 'temp_min': 28.83, 'temp_max': 28.83, 'pressure': 1003, 'sea_level': 1003, 'grnd_level': 1001, 'humidity': 70, 'temp_kf': 0}, 'weather': [{'id': 500, 'main': 'Rain', 'description': 'light rain', 'icon': '10n'}], 'clouds': {'all': 63}, 'wind': {'speed': 5.24, 'deg': 247, 'gust': 8.18}, 'visibility': 10000, 'pop': 0.28, 'rain': {'3h': 0.12}, 'sys': {'pod': 'n'}, 'dt_txt': '2023-05-07 21:00:00'}, {'dt': 1683504000, 'main': {'temp': 28.07, 'feels_like': 30.94, 'temp_min': 28.07, 'temp_max': 28.07, 'pressure': 1004, 'sea_level': 1004, 'grnd_level': 1002, 'humidity': 71, 'temp_kf': 0}, 'weather': [{'id': 803, 'main': 'Clouds', 'description': 'broken clouds', 'icon': '04n'}], 'clouds': {'all': 76}, 'wind': {'speed': 5.85, 'deg': 253, 'gust': 9.25}, 'visibility': 10000, 'pop': 0.2, 'sys': {'pod': 'n'}, 'dt_txt': '2023-05-08 00:00:00'}, {'dt': 1683514800, 'main': {'temp': 30.62, 'feels_like': 34.52, 'temp_min': 30.62, 'temp_max': 30.62, 'pressure': 1006, 'sea_level': 1006, 'grnd_level': 1004, 'humidity': 62, 'temp_kf': 0}, 'weather': [{'id': 500, 'main': 'Rain', 'description': 'light rain', 'icon': '10d'}], 'clouds': {'all': 31}, 'wind': {'speed': 3.76, 'deg': 310, 'gust': 5.52}, 'visibility': 10000, 'pop': 0.24, 'rain': {'3h': 0.13}, 'sys': {'pod': 'd'}, 'dt_txt': '2023-05-08 03:00:00'}, {'dt': 1683525600, 'main': {'temp': 33.37, 'feels_like': 38, 'temp_min': 33.37, 'temp_max': 33.37, 'pressure': 1005, 'sea_level': 1005, 'grnd_level': 1004, 'humidity': 53, 'temp_kf': 0}, 'weather': [{'id': 802, 'main': 'Clouds', 'description': 'scattered clouds', 'icon': '03d'}], 'clouds': {'all': 32}, 'wind': {'speed': 1.02, 'deg': 32, 'gust': 3.35}, 'visibility': 10000, 'pop': 0, 'sys': {'pod': 'd'}, 'dt_txt': '2023-05-08 06:00:00'}, {'dt': 1683536400, 'main': {'temp': 33.91, 'feels_like': 38.88, 'temp_min': 33.91, 'temp_max': 33.91, 'pressure': 1002, 'sea_level': 1002, 'grnd_level': 1001, 'humidity': 52, 'temp_kf': 0}, 'weather': [{'id': 802, 'main': 'Clouds', 'description': 'scattered clouds', 'icon': '03d'}], 'clouds': {'all': 39}, 'wind': {'speed': 3.83, 'deg': 106, 'gust': 3.99}, 'visibility': 10000, 'pop': 0, 'sys': {'pod': 'd'}, 'dt_txt': '2023-05-08 09:00:00'}, {'dt': 1683547200, 'main': {'temp': 31.08, 'feels_like': 36.92, 'temp_min': 31.08, 'temp_max': 31.08, 'pressure': 1002, 'sea_level': 1002, 'grnd_level': 1001, 'humidity': 67, 'temp_kf': 0}, 'weather': [{'id': 802, 'main': 'Clouds', 'description': 'scattered clouds', 'icon': '03d'}], 'clouds': {'all': 48}, 'wind': {'speed': 5.94, 'deg': 155, 'gust': 6.97}, 'visibility': 10000, 'pop': 0, 'sys': {'pod': 'd'}, 'dt_txt': '2023-05-08 12:00:00'}, {'dt': 1683558000, 'main': {'temp': 30.66, 'feels_like': 36.98, 'temp_min': 30.66, 'temp_max': 30.66, 'pressure': 1004, 'sea_level': 1004, 'grnd_level': 1003, 'humidity': 71, 'temp_kf': 0}, 'weather': [{'id': 804, 'main': 'Clouds', 'description': 'overcast clouds', 'icon': '04n'}], 'clouds': {'all': 93}, 'wind': {'speed': 7.5, 'deg': 166, 'gust': 10.44}, 'visibility': 10000, 'pop': 0, 'sys': {'pod': 'n'}, 'dt_txt': '2023-05-08 15:00:00'}, {'dt': 1683568800, 'main': {'temp': 29.64, 'feels_like': 33.96, 'temp_min': 29.64, 'temp_max': 29.64, 'pressure': 1004, 'sea_level': 1004, 'grnd_level': 1003, 'humidity': 69, 'temp_kf': 0}, 'weather': [{'id': 500, 'main': 'Rain', 'description': 'light rain', 'icon': '10n'}], 'clouds': {'all': 97}, 'wind': {'speed': 6.78, 'deg': 205, 'gust': 10.11}, 'visibility': 10000, 'pop': 0.22, 'rain': {'3h': 0.11}, 'sys': {'pod': 'n'}, 'dt_txt': '2023-05-08 18:00:00'}, {'dt': 1683579600, 'main': {'temp': 29.41, 'feels_like': 33.24, 'temp_min': 29.41, 'temp_max': 29.41, 'pressure': 1002, 'sea_level': 1002, 'grnd_level': 1001, 'humidity': 68, 'temp_kf': 0}, 'weather': [{'id': 500, 'main': 'Rain', 'description': 'light rain', 'icon': '10n'}], 'clouds': {'all': 100}, 'wind': {'speed': 4.1, 'deg': 223, 'gust': 5.4}, 'visibility': 10000, 'pop': 0.35, 'rain': {'3h': 0.26}, 'sys': {'pod': 'n'}, 'dt_txt': '2023-05-08 21:00:00'}, {'dt': 1683590400, 'main': {'temp': 28.52, 'feels_like': 31.39, 'temp_min': 28.52, 'temp_max': 28.52, 'pressure': 1003, 'sea_level': 1003, 'grnd_level': 1002, 'humidity': 68, 'temp_kf': 0}, 'weather': [{'id': 500, 'main': 'Rain', 'description': 'light rain', 'icon': '10n'}], 'clouds': {'all': 100}, 'wind': {'speed': 4.44, 'deg': 257, 'gust': 8.05}, 'visibility': 10000, 'pop': 0.2, 'rain': {'3h': 0.26}, 'sys': {'pod': 'n'}, 'dt_txt': '2023-05-09 00:00:00'}, {'dt': 1683601200, 'main': {'temp': 30.81, 'feels_like': 34.45, 'temp_min': 30.81, 'temp_max': 30.81, 'pressure': 1005, 'sea_level': 1005, 'grnd_level': 1003, 'humidity': 60, 'temp_kf': 0}, 'weather': [{'id': 804, 'main': 'Clouds', 'description': 'overcast clouds', 'icon': '04d'}], 'clouds': {'all': 98}, 'wind': {'speed': 4.85, 'deg': 268, 'gust': 6.16}, 'visibility': 10000, 'pop': 0, 'sys': {'pod': 'd'}, 'dt_txt': '2023-05-09 03:00:00'}, {'dt': 1683612000, 'main': {'temp': 34.84, 'feels_like': 38.84, 'temp_min': 34.84, 'temp_max': 34.84, 'pressure': 1004, 'sea_level': 1004, 'grnd_level': 1003, 'humidity': 46, 'temp_kf': 0}, 'weather': [{'id': 803, 'main': 'Clouds', 'description': 'broken clouds', 'icon': '04d'}], 'clouds': {'all': 67}, 'wind': {'speed': 3.01, 'deg': 317, 'gust': 4.64}, 'visibility': 10000, 'pop': 0, 'sys': {'pod': 'd'}, 'dt_txt': '2023-05-09 06:00:00'}]\n"
     ]
    }
   ],
   "source": [
    "# Check if the request was successful\n",
    "if response.status_code == 200:\n",
    "    # Convert the response JSON string into a Python dictionary\n",
    "    data = response.json()\n",
    "\n",
    "    # Extract the forecast data\n",
    "    forecast = data[\"list\"]\n",
    "    print(forecast)\n",
    "\n",
    "    # Print the forecast for each 3-hour interval\n",
    "    for item in forecast:\n",
    "        date_time = item[\"dt_txt\"]\n",
    "        temp = item[\"main\"][\"temp\"]\n",
    "        weather_desc = item[\"weather\"][0][\"description\"]\n",
    "        #print(f\"{date_time}: {temp}°C, {weather_desc}\")\n",
    "        res = res + '<td>' + str(date_time) + '</td>' + '<td>' + str(temp) + \"°C\" + '</td>' + '<td>' + str(weather_desc) + '</td>' + '</tr>'\n",
    "        \n",
    "else:\n",
    "    print(f\"Error: {response.status_code}\")"
   ]
  },
  {
   "cell_type": "code",
   "execution_count": 32,
   "id": "f80d56a7",
   "metadata": {},
   "outputs": [
    {
     "name": "stdout",
     "output_type": "stream",
     "text": [
      "<tr><td>2023-05-04 09:00:00</td><td>32.2°C</td><td>light rain</td></tr><td>2023-05-04 12:00:00</td><td>31.32°C</td><td>light rain</td></tr><td>2023-05-04 15:00:00</td><td>30.27°C</td><td>light rain</td></tr><td>2023-05-04 18:00:00</td><td>28.56°C</td><td>light rain</td></tr><td>2023-05-04 21:00:00</td><td>28.43°C</td><td>light rain</td></tr><td>2023-05-05 00:00:00</td><td>28.21°C</td><td>overcast clouds</td></tr><td>2023-05-05 03:00:00</td><td>29.27°C</td><td>overcast clouds</td></tr><td>2023-05-05 06:00:00</td><td>30.97°C</td><td>light rain</td></tr><td>2023-05-05 09:00:00</td><td>30.43°C</td><td>moderate rain</td></tr><td>2023-05-05 12:00:00</td><td>30.02°C</td><td>light rain</td></tr><td>2023-05-05 15:00:00</td><td>29.43°C</td><td>overcast clouds</td></tr><td>2023-05-05 18:00:00</td><td>28.93°C</td><td>overcast clouds</td></tr><td>2023-05-05 21:00:00</td><td>28.61°C</td><td>light rain</td></tr><td>2023-05-06 00:00:00</td><td>27.97°C</td><td>light rain</td></tr><td>2023-05-06 03:00:00</td><td>27.92°C</td><td>light rain</td></tr><td>2023-05-06 06:00:00</td><td>30.98°C</td><td>overcast clouds</td></tr><td>2023-05-06 09:00:00</td><td>27.89°C</td><td>moderate rain</td></tr><td>2023-05-06 12:00:00</td><td>27.19°C</td><td>light rain</td></tr><td>2023-05-06 15:00:00</td><td>27.04°C</td><td>overcast clouds</td></tr><td>2023-05-06 18:00:00</td><td>27.14°C</td><td>overcast clouds</td></tr><td>2023-05-06 21:00:00</td><td>26.5°C</td><td>light rain</td></tr><td>2023-05-07 00:00:00</td><td>26.58°C</td><td>light rain</td></tr><td>2023-05-07 03:00:00</td><td>29.61°C</td><td>broken clouds</td></tr><td>2023-05-07 06:00:00</td><td>33.18°C</td><td>broken clouds</td></tr><td>2023-05-07 09:00:00</td><td>32.67°C</td><td>overcast clouds</td></tr><td>2023-05-07 12:00:00</td><td>31.02°C</td><td>overcast clouds</td></tr><td>2023-05-07 15:00:00</td><td>29.94°C</td><td>overcast clouds</td></tr><td>2023-05-07 18:00:00</td><td>29.66°C</td><td>overcast clouds</td></tr><td>2023-05-07 21:00:00</td><td>28.83°C</td><td>light rain</td></tr><td>2023-05-08 00:00:00</td><td>28.07°C</td><td>broken clouds</td></tr><td>2023-05-08 03:00:00</td><td>30.62°C</td><td>light rain</td></tr><td>2023-05-08 06:00:00</td><td>33.37°C</td><td>scattered clouds</td></tr><td>2023-05-08 09:00:00</td><td>33.91°C</td><td>scattered clouds</td></tr><td>2023-05-08 12:00:00</td><td>31.08°C</td><td>scattered clouds</td></tr><td>2023-05-08 15:00:00</td><td>30.66°C</td><td>overcast clouds</td></tr><td>2023-05-08 18:00:00</td><td>29.64°C</td><td>light rain</td></tr><td>2023-05-08 21:00:00</td><td>29.41°C</td><td>light rain</td></tr><td>2023-05-09 00:00:00</td><td>28.52°C</td><td>light rain</td></tr><td>2023-05-09 03:00:00</td><td>30.81°C</td><td>overcast clouds</td></tr><td>2023-05-09 06:00:00</td><td>34.84°C</td><td>broken clouds</td></tr>\n"
     ]
    }
   ],
   "source": [
    "print(res)"
   ]
  },
  {
   "cell_type": "code",
   "execution_count": null,
   "id": "7378e266",
   "metadata": {},
   "outputs": [],
   "source": []
  }
 ],
 "metadata": {
  "kernelspec": {
   "display_name": "Python 3 (ipykernel)",
   "language": "python",
   "name": "python3"
  },
  "language_info": {
   "codemirror_mode": {
    "name": "ipython",
    "version": 3
   },
   "file_extension": ".py",
   "mimetype": "text/x-python",
   "name": "python",
   "nbconvert_exporter": "python",
   "pygments_lexer": "ipython3",
   "version": "3.10.4"
  }
 },
 "nbformat": 4,
 "nbformat_minor": 5
}
